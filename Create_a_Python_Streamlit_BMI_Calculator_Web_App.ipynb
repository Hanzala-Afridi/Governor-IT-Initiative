{
  "nbformat": 4,
  "nbformat_minor": 0,
  "metadata": {
    "colab": {
      "provenance": []
    },
    "kernelspec": {
      "name": "python3",
      "display_name": "Python 3"
    },
    "language_info": {
      "name": "python"
    }
  },
  "cells": [
    {
      "cell_type": "markdown",
      "source": [
        "Palay is code ko line se run karo phir jo link dega us par click karna.\n",
        "\n",
        "\n",
        "\n",
        "\n",
        "\n",
        "\n"
      ],
      "metadata": {
        "id": "3on7MDxLpo7t"
      }
    },
    {
      "cell_type": "markdown",
      "source": [
        "#Python Streamlit BMI Calculator Web App."
      ],
      "metadata": {
        "id": "g_iAYjyoRNS8"
      }
    },
    {
      "cell_type": "markdown",
      "source": [
        "What is a Python Streamlit BMI Calculator Web App in the context of Python programming?\n",
        "\n",
        "A Python Streamlit BMI Calculator Web App is a simple web application built using the Streamlit library that allows users to input their weight and height, and then calculates their Body Mass Index (BMI). The app displays the result and provides feedback on the user's BMI category, such as underweight, normal weight, overweight, or obese."
      ],
      "metadata": {
        "id": "0aeMA697RCSv"
      }
    },
    {
      "cell_type": "markdown",
      "source": [
        "Required Libraries Install Karna\n",
        "\n",
        "Streamlit – Ye web app create karne ke liye use hoti hai.\n",
        "\n",
        "Pyngrok – Ye local server ko ngrok ke through internet par expose karne ke liye use hoti hai."
      ],
      "metadata": {
        "id": "UafxOYasRs4J"
      }
    },
    {
      "cell_type": "code",
      "execution_count": 1,
      "metadata": {
        "colab": {
          "base_uri": "https://localhost:8080/"
        },
        "id": "1hN_vwxwIyDj",
        "outputId": "89fd22f6-721d-4214-b51b-da90034b60c2"
      },
      "outputs": [
        {
          "output_type": "stream",
          "name": "stdout",
          "text": [
            "\u001b[2K     \u001b[90m━━━━━━━━━━━━━━━━━━━━━━━━━━━━━━━━━━━━━━━━\u001b[0m \u001b[32m44.3/44.3 kB\u001b[0m \u001b[31m1.3 MB/s\u001b[0m eta \u001b[36m0:00:00\u001b[0m\n",
            "\u001b[2K   \u001b[90m━━━━━━━━━━━━━━━━━━━━━━━━━━━━━━━━━━━━━━━━\u001b[0m \u001b[32m9.1/9.1 MB\u001b[0m \u001b[31m40.9 MB/s\u001b[0m eta \u001b[36m0:00:00\u001b[0m\n",
            "\u001b[2K   \u001b[90m━━━━━━━━━━━━━━━━━━━━━━━━━━━━━━━━━━━━━━━━\u001b[0m \u001b[32m6.9/6.9 MB\u001b[0m \u001b[31m56.2 MB/s\u001b[0m eta \u001b[36m0:00:00\u001b[0m\n",
            "\u001b[2K   \u001b[90m━━━━━━━━━━━━━━━━━━━━━━━━━━━━━━━━━━━━━━━━\u001b[0m \u001b[32m79.1/79.1 kB\u001b[0m \u001b[31m4.3 MB/s\u001b[0m eta \u001b[36m0:00:00\u001b[0m\n",
            "\u001b[?25h"
          ]
        }
      ],
      "source": [
        "!pip install streamlit pyngrok --quiet\n"
      ]
    },
    {
      "cell_type": "markdown",
      "source": [
        "Ngrok Authentication"
      ],
      "metadata": {
        "id": "T71gRipjR8FA"
      }
    },
    {
      "cell_type": "code",
      "source": [
        "from pyngrok import ngrok\n",
        "\n",
        "# Replace with your ngrok token\n",
        "ngrok.set_auth_token(\"2qJgTMIlbAPt1G6SUZF7csbhwn0_4FpQD7rvaetn5NHeRWdkr\")\n"
      ],
      "metadata": {
        "colab": {
          "base_uri": "https://localhost:8080/"
        },
        "id": "EXTPPyUwJUMS",
        "outputId": "2be6abc3-87ba-4da2-bdfe-1ea04b9ae191"
      },
      "execution_count": 2,
      "outputs": [
        {
          "output_type": "stream",
          "name": "stdout",
          "text": []
        }
      ]
    },
    {
      "cell_type": "markdown",
      "source": [
        "Streamlit App Ka Code"
      ],
      "metadata": {
        "id": "vnZ1Y_PASLXf"
      }
    },
    {
      "cell_type": "code",
      "source": [
        "%%writefile app.py\n",
        "import streamlit as st\n",
        "\n",
        "# Set the title of the app\n",
        "st.title(\"BMI Calculator\")\n",
        "\n",
        "# Get user input for height (in cm)\n",
        "height = st.slider(\"Enter your height (in cm)\", 100, 250, 175)\n",
        "\n",
        "# Get user input for weight (in kg)\n",
        "weight = st.slider(\"Enter your weight (in kg)\", 40, 200, 70)\n",
        "\n",
        "# Calculate BMI\n",
        "height_in_meters = height / 100  # Convert cm to meters\n",
        "bmi = weight / (height_in_meters ** 2)\n",
        "\n",
        "# Display BMI result\n",
        "st.write(f\"Your BMI is: {bmi:.2f}\")\n",
        "\n",
        "# BMI categories\n",
        "if bmi < 18.5:\n",
        "    st.write(\"BMI Category: Underweight\")\n",
        "elif 18.5 <= bmi < 25:\n",
        "    st.write(\"BMI Category: Normal weight\")\n",
        "elif 25 <= bmi < 30:\n",
        "    st.write(\"BMI Category: Overweight\")\n",
        "else:\n",
        "    st.write(\"BMI Category: Obesity\")\n"
      ],
      "metadata": {
        "colab": {
          "base_uri": "https://localhost:8080/"
        },
        "id": "AademunSKb-4",
        "outputId": "2287c9f7-74a4-4c06-afec-c5e228dcc329"
      },
      "execution_count": 3,
      "outputs": [
        {
          "output_type": "stream",
          "name": "stdout",
          "text": [
            "Writing app.py\n"
          ]
        }
      ]
    },
    {
      "cell_type": "markdown",
      "source": [
        "Ngrok Connect Karna"
      ],
      "metadata": {
        "id": "Nif2wKJZSSRp"
      }
    },
    {
      "cell_type": "code",
      "source": [
        "# Start ngrok tunnel for Streamlit app\n",
        "public_url = ngrok.connect(8501).public_url\n",
        "print(f\"Streamlit app is live at: {public_url}\")\n"
      ],
      "metadata": {
        "colab": {
          "base_uri": "https://localhost:8080/"
        },
        "id": "L2chkkWzLDCH",
        "outputId": "b5b4873a-33f7-42e8-d54f-232bdc4188f7"
      },
      "execution_count": 4,
      "outputs": [
        {
          "output_type": "stream",
          "name": "stdout",
          "text": [
            "Streamlit app is live at: https://3a24-34-34-55-216.ngrok-free.app\n"
          ]
        }
      ]
    },
    {
      "cell_type": "markdown",
      "source": [
        "Streamlit App Run Karna"
      ],
      "metadata": {
        "id": "o9Yl8dhmSUNl"
      }
    },
    {
      "cell_type": "code",
      "source": [
        "!streamlit run app.py &>/dev/null &\n"
      ],
      "metadata": {
        "id": "dL9y-xDcL2rw"
      },
      "execution_count": 5,
      "outputs": []
    },
    {
      "cell_type": "markdown",
      "source": [
        "#Made by Hanzala Afridi\n",
        "#Github: https://github.com/Hanzala-Afridi\n",
        "#Linkedin: https://www.linkedin.com/in/hanzala-afridi-0084502b4?utm_source=share&utm_campaign=share_via&utm_content=profile&utm_medium=android_app"
      ],
      "metadata": {
        "id": "GQQ2AGJapmCD"
      }
    }
  ]
}