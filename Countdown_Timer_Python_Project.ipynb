{
  "nbformat": 4,
  "nbformat_minor": 0,
  "metadata": {
    "colab": {
      "provenance": []
    },
    "kernelspec": {
      "name": "python3",
      "display_name": "Python 3"
    },
    "language_info": {
      "name": "python"
    }
  },
  "cells": [
    {
      "cell_type": "markdown",
      "source": [
        "#Countdown Timer Python Project\n"
      ],
      "metadata": {
        "id": "EAtgRgBOoF3y"
      }
    },
    {
      "cell_type": "markdown",
      "source": [
        "What is a Countdown Timer Python Project in the context of Python programming?\n",
        "\n",
        "A Countdown Timer Python Project is a program that takes a specific amount of time (in seconds or minutes) as input and counts down to zero while displaying the remaining time. When the timer reaches zero, it typically triggers an event, such as displaying a message or playing a sound.\n"
      ],
      "metadata": {
        "id": "SY_mWmqXoJcf"
      }
    },
    {
      "cell_type": "code",
      "execution_count": null,
      "metadata": {
        "colab": {
          "base_uri": "https://localhost:8080/"
        },
        "id": "joghAFF4VmAi",
        "outputId": "cd7570d7-64a9-479a-cce7-a898fc5ac98d"
      },
      "outputs": [
        {
          "output_type": "stream",
          "name": "stdout",
          "text": [
            "Enter the time in seconds: 10\n",
            "Time completed!\n"
          ]
        }
      ],
      "source": [
        "\n",
        "import time\n",
        "\n",
        "def countdown(t):\n",
        "    \"\"\"\n",
        "    Function to perform a countdown.\n",
        "    :param t: Time in seconds to countdown from.\n",
        "    \"\"\"\n",
        "    while t:\n",
        "        # Minutes aur seconds calculate karo (mins aur secs nikal lo)\n",
        "        mins, secs = divmod(t, 60)\n",
        "        # Timer ka format set karo (MM:SS format mein)\n",
        "        timer = '{:02d}:{:02d}'.format(mins, secs)\n",
        "        print(timer, end=\"\\r\")  # Pehle ki line ko overwrite karo\n",
        "        time.sleep(1)  # Har step ke baad 1 second ka pause\n",
        "        t -= 1  # Time ko 1 second se kam karo\n",
        "\n",
        "    print(\"Time completed!\")  # Jab countdown khatam ho jaye to yeh message print karo\n",
        "\n",
        "# User se time input lo\n",
        "t = int(input(\"Enter the time in seconds: \"))\n",
        "countdown(t)\n",
        "\n",
        "\n"
      ]
    },
    {
      "cell_type": "markdown",
      "source": [
        "#Made by Hanzala Afridi\n",
        "#Github: https://github.com/Hanzala-Afridi\n",
        "#Linkedin:  https://www.linkedin.com/in/hanzala-afridi-0084502b4?utm_source=share&utm_campaign=share_via&utm_content=profile&utm_medium=android_app"
      ],
      "metadata": {
        "id": "eRsOjCuDoYQb"
      }
    }
  ]
}