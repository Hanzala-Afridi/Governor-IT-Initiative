{
  "nbformat": 4,
  "nbformat_minor": 0,
  "metadata": {
    "colab": {
      "provenance": []
    },
    "kernelspec": {
      "name": "python3",
      "display_name": "Python 3"
    },
    "language_info": {
      "name": "python"
    }
  },
  "cells": [
    {
      "cell_type": "markdown",
      "source": [
        "#Guess the Number Game Python Project (user)\n"
      ],
      "metadata": {
        "id": "9IRBHUMtKFEH"
      }
    },
    {
      "cell_type": "markdown",
      "source": [
        "What is a Guess the Number Game Python Project (user) in the context of Python programming?\n",
        "\n",
        "A Guess the Number Game in Python programming is a simple interactive project where the computer generates a random number, and the user has to guess that number within a specified range, such as 1 to 10. The program gives feedback after each guess, telling the user if the guessed number is too high, too low, or correct.\n"
      ],
      "metadata": {
        "id": "82qK14wxKL3o"
      }
    },
    {
      "cell_type": "code",
      "execution_count": 1,
      "metadata": {
        "colab": {
          "base_uri": "https://localhost:8080/"
        },
        "id": "gy7S8oAYq0cE",
        "outputId": "eca7cd0c-2ef1-4173-b85c-2753dcc23cb1"
      },
      "outputs": [
        {
          "output_type": "stream",
          "name": "stdout",
          "text": [
            "Guess a number between 1 and 10: 8\n",
            "Sorry, guess again. Too high.\n",
            "Guess a number between 1 and 10: 5\n",
            "Sorry, guess again. Too low.\n",
            "Guess a number between 1 and 10: 7\n",
            "Sorry, guess again. Too high.\n",
            "Guess a number between 1 and 10: 6\n",
            "Yay, congrats. You have guessed the number 6 correctly!!\n"
          ]
        }
      ],
      "source": [
        "\n",
        "import random\n",
        "\n",
        "# Ye function player ko number guess karne ka moka deta hai\n",
        "def guess(x):\n",
        "    # Ek random number generate karte hain 1 se x tak\n",
        "    random_number = random.randint(1, x)\n",
        "    guess = 0\n",
        "    # Jab tak player correct guess nahi karta, ye loop chalega\n",
        "    while guess != random_number:\n",
        "        # Player se input lete hain\n",
        "        guess = int(input(f'Guess a number between 1 and {x}: '))\n",
        "        # Agar guess kam hai, to batate hain ke guess too low hai\n",
        "        if guess < random_number:\n",
        "            print('Sorry, guess again. Too low.')\n",
        "        # Agar guess zyada hai, to batate hain ke guess too high hai\n",
        "        elif guess > random_number:\n",
        "            print('Sorry, guess again. Too high.')\n",
        "\n",
        "    # Jab player sahi guess karta hai, congratulatory message dikhate hain\n",
        "    print(f'Yay, congrats. You have guessed the number {random_number} correctly!!')\n",
        "\n",
        "# Ye function computer ko number guess karne ka moka deta hai\n",
        "def computer_guess(x):\n",
        "    low = 1\n",
        "    high = x\n",
        "    feedback = ''\n",
        "    # Jab tak computer ko sahi feedback nahi milta, ye loop chalega\n",
        "    while feedback != 'c':\n",
        "        # Agar low aur high barabar nahi hain, to ek random guess generate karte hain\n",
        "        if low != high:\n",
        "            guess = random.randint(low, high)\n",
        "        else:\n",
        "            guess = low  # low aur high dono barabar hain to guess low ya high dono ho sakta hai\n",
        "        # Player se feedback lete hain agar computer ka guess sahi hai, high hai, ya low hai\n",
        "        feedback = input(f'Is {guess} too high (H), too low (L), or correct (C)?? ').lower()\n",
        "        # Agar feedback high hai, to guess ko kam karte hain\n",
        "        if feedback == 'h':\n",
        "            high = guess - 1\n",
        "        # Agar feedback low hai, to guess ko zyada karte hain\n",
        "        elif feedback == 'l':\n",
        "            low = guess + 1\n",
        "\n",
        "    # Jab computer sahi guess karta hai, congratulatory message dikhate hain\n",
        "    print(f'Yay! The computer guessed your number, {guess}, correctly!')\n",
        "\n",
        "# Player ko guess karne ke liye number ka range dena\n",
        "guess(10)\n"
      ]
    },
    {
      "cell_type": "markdown",
      "source": [
        "#Made by Hanzala Afridi\n",
        "#Github: https://github.com/Hanzala-Afridi\n",
        "#Linkedin: https://www.linkedin.com/in/hanzala-afridi-0084502b4?utm_source=share&utm_campaign=share_via&utm_content=profile&utm_medium=android_app"
      ],
      "metadata": {
        "id": "2h748nvAmlY1"
      }
    }
  ]
}