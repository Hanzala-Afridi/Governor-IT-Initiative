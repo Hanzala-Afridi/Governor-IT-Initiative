{
  "nbformat": 4,
  "nbformat_minor": 0,
  "metadata": {
    "colab": {
      "provenance": [],
      "toc_visible": true
    },
    "kernelspec": {
      "name": "python3",
      "display_name": "Python 3"
    },
    "language_info": {
      "name": "python"
    }
  },
  "cells": [
    {
      "cell_type": "markdown",
      "source": [
        "#Mad libs Python Project\n"
      ],
      "metadata": {
        "id": "aivq1SjlHhEA"
      }
    },
    {
      "cell_type": "markdown",
      "source": [
        "What is a Madlib in the context of Python programming?\n",
        "\n",
        "A Madlib is a game where users fill in blanks with words to create a funny or nonsensical story, often using programming to automate the process.\n",
        "\n",
        "Explanation\n",
        "\n",
        "In Python programming, a Madlib allows users to input various parts of speech (like verbs, adjectives, and nouns) to generate a unique story. This concept teaches how to handle user input and manipulate strings in programming.\n",
        "\n"
      ],
      "metadata": {
        "id": "aANdaLvFHqZZ"
      }
    },
    {
      "cell_type": "code",
      "execution_count": 1,
      "metadata": {
        "colab": {
          "base_uri": "https://localhost:8080/"
        },
        "id": "RaFN4Vm0wvc0",
        "outputId": "29b0e2d2-dc4c-4574-e573-9d6d4c16f49d"
      },
      "outputs": [
        {
          "output_type": "stream",
          "name": "stdout",
          "text": [
            "Adjective: Exciting\n",
            "Verb: code\n",
            "Verb: learn\n",
            "Famous person: Elon Musk\n",
            "Computer programming is so Exciting! It makes me so excited all the time because I love to code. Stay hydrated and learn like you are Elon Musk!\n"
          ]
        }
      ],
      "source": [
        "\n",
        "\n",
        "adj = input(\"Adjective: \")  #User ek describing word deta hai.\n",
        "verb1 = input(\"Verb: \")     #Ek action word enter karta hai.\n",
        "verb2 = input(\"Verb: \")     #Dusra action word deta hai.\n",
        "famous_person = input(\"Famous person: \")     #Ek mashhoor shakhsiyat ka naam input karta hai.\n",
        "\n",
        "#User ke inputs ko template mein insert karne ke liye Python ka f-string feature use kiya gaya hai. Yeh dynamically user ke provided values ko replace karta hai blanks mein:\n",
        "madlib = f\"Computer programming is so {adj}! It makes me so excited all the time because \\\n",
        "I love to {verb1}. Stay hydrated and {verb2} like you are {famous_person}!\"\n",
        "\n",
        "print(madlib)  #Final story ko print() function ke zariye display kiya jata hai:\n",
        "\n",
        "\n"
      ]
    },
    {
      "cell_type": "markdown",
      "source": [
        "#Made by Hanzala Afridi\n",
        "#Github: https://github.com/Hanzala-Afridi\n",
        "#Linkedin: https://www.linkedin.com/in/hanzala-afridi-0084502b4?utm_source=share&utm_campaign=share_via&utm_content=profile&utm_medium=android_app"
      ],
      "metadata": {
        "id": "j6wFywpjl-nl"
      }
    }
  ]
}