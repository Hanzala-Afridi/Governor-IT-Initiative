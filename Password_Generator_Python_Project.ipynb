{
  "nbformat": 4,
  "nbformat_minor": 0,
  "metadata": {
    "colab": {
      "provenance": []
    },
    "kernelspec": {
      "name": "python3",
      "display_name": "Python 3"
    },
    "language_info": {
      "name": "python"
    }
  },
  "cells": [
    {
      "cell_type": "markdown",
      "source": [
        "#Password Generator Python Project\n"
      ],
      "metadata": {
        "id": "rE6n2a37oii3"
      }
    },
    {
      "cell_type": "markdown",
      "source": [
        "What is a Password Generator Python Project in the context of Python programming?\n",
        "\n",
        "A Password Generator Python Project is a program that generates a secure, random password based on the user's specified criteria, such as length, character types (uppercase, lowercase, digits, symbols), and complexity. The goal is to create a strong password that is difficult to guess or crack.\n"
      ],
      "metadata": {
        "id": "m2a0IE2eom6P"
      }
    },
    {
      "cell_type": "code",
      "execution_count": null,
      "metadata": {
        "colab": {
          "base_uri": "https://localhost:8080/"
        },
        "id": "yNN8c3NsYFNS",
        "outputId": "2f4fdc06-c6d5-4f92-e143-c9b34233ad83"
      },
      "outputs": [
        {
          "output_type": "stream",
          "name": "stdout",
          "text": [
            "Welcome to your Password Generator!\n",
            "Enter the number of passwords to generate: 5\n",
            "Enter the password length: 4\n",
            "Here are your passwords:\n",
            "l-_l\n",
            "#(3n\n",
            "4E*Q\n",
            "1svY\n",
            "irTP\n"
          ]
        }
      ],
      "source": [
        "\n",
        "import random\n",
        "\n",
        "# Welcome message\n",
        "print(\"Welcome to your Password Generator!\")\n",
        "\n",
        "# Password ke liye characters define kar rahe hain\n",
        "chars = \"abcdefghijklmnopqrstuvwxyzABCDEFGHIJKLMNOPQRSTUVWXYZ!@#$%^&*()_+=-1234567890\"\n",
        "\n",
        "# User se password generate karne ke liye number aur length lene ki request kar rahe hain\n",
        "number = int(input(\"Enter the number of passwords to generate: \"))\n",
        "length = int(input(\"Enter the password length: \"))\n",
        "\n",
        "# Passwords generate hone ke baad unhe print karne ka message\n",
        "print(\"Here are your passwords:\")\n",
        "\n",
        "# Passwords generate karne ke liye loop\n",
        "for pwd in range(number):\n",
        "    password = \"\"\n",
        "    for c in range(length):\n",
        "        password += random.choice(chars)  # Har character randomly select kar rahe hain\n",
        "    print(password)  # Generated password ko print kar rahe hain\n",
        "\n"
      ]
    },
    {
      "cell_type": "markdown",
      "source": [
        "#Made by Hanzala Afridi\n",
        "#Github: https://github.com/Hanzala-Afridi\n",
        "#Linkedin: https://www.linkedin.com/in/hanzala-afridi-0084502b4?utm_source=share&utm_campaign=share_via&utm_content=profile&utm_medium=android_app"
      ],
      "metadata": {
        "id": "7XbG8sfeovhs"
      }
    }
  ]
}