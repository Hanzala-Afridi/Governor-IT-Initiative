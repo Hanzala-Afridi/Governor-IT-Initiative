{
  "nbformat": 4,
  "nbformat_minor": 0,
  "metadata": {
    "colab": {
      "provenance": []
    },
    "kernelspec": {
      "name": "python3",
      "display_name": "Python 3"
    },
    "language_info": {
      "name": "python"
    }
  },
  "cells": [
    {
      "cell_type": "markdown",
      "source": [
        "#Guess the Number Game Python Project (computer)\n"
      ],
      "metadata": {
        "id": "WkC8XZCPJI-N"
      }
    },
    {
      "cell_type": "markdown",
      "source": [
        "What is a Guess the Number Game in the context of Python programming?\n",
        "\n",
        "A Guess the Number Game is a program where the computer tries to guess a number that the user is thinking of within a specified range, using feedback to adjust its guesses.\n"
      ],
      "metadata": {
        "id": "VGipi_mCJPri"
      }
    },
    {
      "cell_type": "code",
      "execution_count": 1,
      "metadata": {
        "colab": {
          "base_uri": "https://localhost:8080/"
        },
        "id": "lluhseaYWD3a",
        "outputId": "ab136a52-b47e-4468-9c91-aead7d96c6b6"
      },
      "outputs": [
        {
          "output_type": "stream",
          "name": "stdout",
          "text": [
            "Welcome to the Guess the Number Game!\n",
            "Think of a number between 1 and 100, and I will try to guess it.\n",
            "Is your number 50?\n",
            "Type 'h' if my guess is too high, 'l' if too low, or 'c' if correct.\n",
            "Your input: h\n",
            "Is your number 25?\n",
            "Type 'h' if my guess is too high, 'l' if too low, or 'c' if correct.\n",
            "Your input: h\n",
            "Is your number 12?\n",
            "Type 'h' if my guess is too high, 'l' if too low, or 'c' if correct.\n",
            "Your input: l\n",
            "Is your number 18?\n",
            "Type 'h' if my guess is too high, 'l' if too low, or 'c' if correct.\n",
            "Your input: l\n",
            "Is your number 21?\n",
            "Type 'h' if my guess is too high, 'l' if too low, or 'c' if correct.\n",
            "Your input: h\n",
            "Is your number 19?\n",
            "Type 'h' if my guess is too high, 'l' if too low, or 'c' if correct.\n",
            "Your input: l\n",
            "Is your number 20?\n",
            "Type 'h' if my guess is too high, 'l' if too low, or 'c' if correct.\n",
            "Your input: c\n",
            "Hooray! I guessed your number 20 in 7 attempts.\n"
          ]
        }
      ],
      "source": [
        "\n",
        "import random\n",
        "\n",
        "# Ye program ek guessing game hai jahan computer ek number guess karta hai jo user ne socha hota hai.\n",
        "def computer_guess_game():\n",
        "    print(\"Welcome to the Guess the Number Game!\")  # Game ka welcome message.\n",
        "    print(\"Think of a number between 1 and 100, and I will try to guess it.\")  # User ko guide karta hai.\n",
        "\n",
        "    low = 1  # Lower limit set karta hai.\n",
        "    high = 100  # Upper limit set karta hai.\n",
        "    attempts = 0  # Attempts ko count karne ke liye variable.\n",
        "\n",
        "    while True:\n",
        "        guess = (low + high) // 2  # Computer lower aur upper limit ke darmiyan middle number guess karta hai.\n",
        "        attempts += 1  # Har guess ke baad attempt count badhta hai.\n",
        "\n",
        "        print(f\"Is your number {guess}?\")  # Computer apna guess show karta hai.\n",
        "        print(\"Type 'h' if my guess is too high, 'l' if too low, or 'c' if correct.\")  # User ko instructions deta hai.\n",
        "        user_feedback = input(\"Your input: \").lower()  # User ka feedback leta hai.\n",
        "\n",
        "        if user_feedback == 'h':\n",
        "            high = guess - 1  # Agar guess zyada hai toh upper limit ko adjust karta hai.\n",
        "        elif user_feedback == 'l':\n",
        "            low = guess + 1  # Agar guess kam hai toh lower limit ko adjust karta hai.\n",
        "        elif user_feedback == 'c':\n",
        "            print(f\"Hooray! I guessed your number {guess} in {attempts} attempts.\")  # Agar guess sahi hai toh success message deta hai.\n",
        "            break  # Loop ko end karta hai.\n",
        "        else:\n",
        "            print(\"Invalid input! Please type 'h', 'l', or 'c'.\")  # Invalid input ka error message deta hai.\n",
        "\n",
        "computer_guess_game()\n",
        "\n"
      ]
    },
    {
      "cell_type": "markdown",
      "source": [
        "#Made by Hanzala Afridi\n",
        "#Github: https://github.com/Hanzala-Afridi\n",
        "#Linkedin: https://www.linkedin.com/in/hanzala-afridi-0084502b4?utm_source=share&utm_campaign=share_via&utm_content=profile&utm_medium=android_app"
      ],
      "metadata": {
        "id": "XSeGHn9DmIU9"
      }
    }
  ]
}