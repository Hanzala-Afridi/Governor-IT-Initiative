{
  "nbformat": 4,
  "nbformat_minor": 0,
  "metadata": {
    "colab": {
      "provenance": [],
      "toc_visible": true
    },
    "kernelspec": {
      "name": "python3",
      "display_name": "Python 3"
    },
    "language_info": {
      "name": "python"
    }
  },
  "cells": [
    {
      "cell_type": "markdown",
      "source": [
        "#Rock, paper, scissors Python Project\n"
      ],
      "metadata": {
        "id": "Mon6MJy0kPpY"
      }
    },
    {
      "cell_type": "markdown",
      "source": [
        "What is a Rock, Paper, Scissors Python Project in the context of Python programming?\n",
        "\n",
        "A Rock, Paper, Scissors Python Project is a simple interactive game where the user plays the classic \"Rock, Paper, Scissors\" game against the computer. The computer randomly selects one of the three options, and the program compares the user's choice with the computer's choice to determine the winner based on the rules of the game.\n"
      ],
      "metadata": {
        "id": "heiAiPTkkW4o"
      }
    },
    {
      "cell_type": "code",
      "execution_count": 3,
      "metadata": {
        "colab": {
          "base_uri": "https://localhost:8080/"
        },
        "id": "uENFk2ItuCgp",
        "outputId": "bc5e333d-97f4-4f91-88ac-17e6ffef3a1d"
      },
      "outputs": [
        {
          "output_type": "stream",
          "name": "stdout",
          "text": [
            "What's your choice? 'r' for rock, 'p' for paper, 's' for scissors\n",
            "s\n",
            "You won!\n"
          ]
        }
      ],
      "source": [
        "\n",
        "import random\n",
        "\n",
        "def play():\n",
        "    # User se input lena ke wo kya choose karna chahta hai\n",
        "    user = input(\"What's your choice? 'r' for rock, 'p' for paper, 's' for scissors\\n\")\n",
        "\n",
        "    # Computer randomly ek choice select karega\n",
        "    computer = random.choice(['r', 'p', 's'])\n",
        "\n",
        "    # Agar user aur computer ka choice same hai toh tie hai\n",
        "    if user == computer:\n",
        "        return 'It\\'s a tie'\n",
        "\n",
        "    # r > s, s > p, p > r (ye rules hain)\n",
        "    if is_win(user, computer):\n",
        "        return 'You won!'  # Agar user jeet gaya\n",
        "\n",
        "    return 'You lost!'  # Agar user haar gaya\n",
        "\n",
        "def is_win(player, opponent):\n",
        "    # Yeh function check karta hai agar player ne opponent ko haraya hai ya nahi\n",
        "    # r > s, s > p, p > r ke rules ke mutabiq\n",
        "    if (player == 'r' and opponent == 's') or (player == 's' and opponent == 'p') \\\n",
        "        or (player == 'p' and opponent == 'r'):\n",
        "        return True  # Agar player ne jeet liya\n",
        "\n",
        "# Game ko chalana\n",
        "print(play())\n",
        "\n"
      ]
    },
    {
      "cell_type": "markdown",
      "source": [
        "#Made by Hanzala Afridi\n",
        "#Github: https://github.com/Hanzala-Afridi\n",
        "#linkedin: https://www.linkedin.com/in/hanzala-afridi-0084502b4?utm_source=share&utm_campaign=share_via&utm_content=profile&utm_medium=android_app"
      ],
      "metadata": {
        "id": "aY3QbJ13k3G7"
      }
    }
  ]
}