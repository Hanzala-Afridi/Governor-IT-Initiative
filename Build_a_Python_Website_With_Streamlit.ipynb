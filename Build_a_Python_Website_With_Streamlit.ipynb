{
  "nbformat": 4,
  "nbformat_minor": 0,
  "metadata": {
    "colab": {
      "provenance": []
    },
    "kernelspec": {
      "name": "python3",
      "display_name": "Python 3"
    },
    "language_info": {
      "name": "python"
    }
  },
  "cells": [
    {
      "cell_type": "markdown",
      "source": [
        "Palay is code ko line se run karo phir jo link dega us par click karna.\n",
        "\n",
        "\n",
        "\n",
        "Data File Github Pay Upload Hai"
      ],
      "metadata": {
        "id": "WAGWJg-yqpoc"
      }
    },
    {
      "cell_type": "markdown",
      "source": [
        "#Build a Python Website With Streamlit"
      ],
      "metadata": {
        "id": "BlIRpMcongAF"
      }
    },
    {
      "cell_type": "markdown",
      "source": [
        "What is Building a Python Website With Streamlit in the context of Python programming?\n",
        "\n",
        "Building a Python Website with Streamlit involves creating interactive web applications directly in Python using the Streamlit framework. This approach is popular for data visualization, dashboards, and lightweight web apps, allowing developers to focus on functionality rather than complex frontend design."
      ],
      "metadata": {
        "id": "ebO6nTa7nchg"
      }
    },
    {
      "cell_type": "markdown",
      "source": [
        "Required Libraries Install Karna\n",
        "\n",
        "Streamlit – Ye web app create karne ke liye use hoti hai.\n",
        "\n",
        "Pyngrok – Ye local server ko ngrok ke through internet par expose karne ke liye use hoti hai."
      ],
      "metadata": {
        "id": "oE-5S4yInmS2"
      }
    },
    {
      "cell_type": "code",
      "execution_count": 1,
      "metadata": {
        "colab": {
          "base_uri": "https://localhost:8080/"
        },
        "id": "TqnKR8PRa_3X",
        "outputId": "9716555f-296e-454d-e017-30f5a91b7827"
      },
      "outputs": [
        {
          "output_type": "stream",
          "name": "stdout",
          "text": [
            "\u001b[2K     \u001b[90m━━━━━━━━━━━━━━━━━━━━━━━━━━━━━━━━━━━━━━━━\u001b[0m \u001b[32m44.3/44.3 kB\u001b[0m \u001b[31m1.8 MB/s\u001b[0m eta \u001b[36m0:00:00\u001b[0m\n",
            "\u001b[2K   \u001b[90m━━━━━━━━━━━━━━━━━━━━━━━━━━━━━━━━━━━━━━━━\u001b[0m \u001b[32m9.1/9.1 MB\u001b[0m \u001b[31m54.6 MB/s\u001b[0m eta \u001b[36m0:00:00\u001b[0m\n",
            "\u001b[2K   \u001b[90m━━━━━━━━━━━━━━━━━━━━━━━━━━━━━━━━━━━━━━━━\u001b[0m \u001b[32m6.9/6.9 MB\u001b[0m \u001b[31m93.1 MB/s\u001b[0m eta \u001b[36m0:00:00\u001b[0m\n",
            "\u001b[2K   \u001b[90m━━━━━━━━━━━━━━━━━━━━━━━━━━━━━━━━━━━━━━━━\u001b[0m \u001b[32m79.1/79.1 kB\u001b[0m \u001b[31m6.3 MB/s\u001b[0m eta \u001b[36m0:00:00\u001b[0m\n",
            "\u001b[?25h"
          ]
        }
      ],
      "source": [
        "!pip install streamlit pyngrok --quiet\n"
      ]
    },
    {
      "cell_type": "markdown",
      "source": [
        "Ngrok Authentication"
      ],
      "metadata": {
        "id": "4FzTfS3onu2J"
      }
    },
    {
      "cell_type": "code",
      "source": [
        "from pyngrok import ngrok\n",
        "\n",
        "# Replace with your ngrok token\n",
        "ngrok.set_auth_token(\"2qJgTMIlbAPt1G6SUZF7csbhwn0_4FpQD7rvaetn5NHeRWdkr\")\n"
      ],
      "metadata": {
        "colab": {
          "base_uri": "https://localhost:8080/"
        },
        "id": "JmtjUZT0bNdE",
        "outputId": "1dd47d5d-7324-45cc-b24a-f1120559c0de"
      },
      "execution_count": 2,
      "outputs": [
        {
          "output_type": "stream",
          "name": "stdout",
          "text": []
        }
      ]
    },
    {
      "cell_type": "markdown",
      "source": [
        "Build a Python Website With Streamlit Ka Code"
      ],
      "metadata": {
        "id": "Go86OqvJoIQ0"
      }
    },
    {
      "cell_type": "code",
      "source": [
        "%%writefile app.py\n",
        "\n",
        "import streamlit as st\n",
        "\n",
        "\n",
        "code = \"\"\"\n",
        "import streamlit as st\n",
        "import pandas as pd\n",
        "import matplotlib.pyplot as plt\n",
        "\n",
        "st.title(\"Simple Data Dashboard\")\n",
        "\n",
        "uploaded_file = st.file_uploader(\"Choose a CSV file\", type=\"csv\")\n",
        "\n",
        "if uploaded_file is not None:\n",
        "    df = pd.read_csv(uploaded_file)\n",
        "\n",
        "    st.subheader(\"Data Preview\")\n",
        "    st.write(df.head())\n",
        "\n",
        "    st.subheader(\"Data Summary\")\n",
        "    st.write(df.describe())\n",
        "\n",
        "    st.subheader(\"Filter Data\")\n",
        "    columns = df.columns.tolist()\n",
        "    selected_column = st.selectbox(\"Select column to filter by\", columns)\n",
        "    unique_values = df[selected_column].unique()\n",
        "    selected_value = st.selectbox(\"Select value\", unique_values)\n",
        "\n",
        "    filtered_df = df[df[selected_column] == selected_value]\n",
        "    st.write(filtered_df)\n",
        "\n",
        "    st.subheader(\"Plot Data\")\n",
        "    x_column = st.selectbox(\"Select x-axis column\", columns)\n",
        "    y_column = st.selectbox(\"Select y-axis column\", columns)\n",
        "\n",
        "    if st.button(\"Generate Plot\"):\n",
        "        st.line_chart(filtered_df.set_index(x_column)[y_column])\n",
        "else:\n",
        "    st.write(\"Waiting on file upload...\")\n",
        "\"\"\"\n",
        "with open(\"app.py\", \"w\") as f:\n",
        "    f.write(code)\n"
      ],
      "metadata": {
        "colab": {
          "base_uri": "https://localhost:8080/"
        },
        "id": "xecQjaLnbVoT",
        "outputId": "865745d9-25bc-46d5-fde1-812c80f41b13"
      },
      "execution_count": 3,
      "outputs": [
        {
          "output_type": "stream",
          "name": "stdout",
          "text": [
            "Writing app.py\n"
          ]
        }
      ]
    },
    {
      "cell_type": "markdown",
      "source": [
        "Ngrok Connect Karna"
      ],
      "metadata": {
        "id": "4H-XtPWkoPo0"
      }
    },
    {
      "cell_type": "code",
      "source": [
        "# Start ngrok tunnel for Streamlit app\n",
        "public_url = ngrok.connect(8501).public_url\n",
        "print(f\"Streamlit app is live at: {public_url}\")\n"
      ],
      "metadata": {
        "colab": {
          "base_uri": "https://localhost:8080/"
        },
        "id": "YjVVuPwibdiL",
        "outputId": "e319199c-81f8-424c-b58d-706f6e6f3878"
      },
      "execution_count": 4,
      "outputs": [
        {
          "output_type": "stream",
          "name": "stdout",
          "text": [
            "Streamlit app is live at: https://27c1-34-106-124-90.ngrok-free.app\n"
          ]
        }
      ]
    },
    {
      "cell_type": "markdown",
      "source": [
        "Streamlit App Run Karna"
      ],
      "metadata": {
        "id": "am93_1C0oVPo"
      }
    },
    {
      "cell_type": "code",
      "source": [
        "!streamlit run app.py &>/dev/null &\n"
      ],
      "metadata": {
        "id": "DJ6JgBU3bhAJ"
      },
      "execution_count": 5,
      "outputs": []
    },
    {
      "cell_type": "markdown",
      "source": [
        "#Made by Hanzala Afridi\n",
        "#Github: https://github.com/Hanzala-Afridi\n",
        "#Linkedin: https://www.linkedin.com/in/hanzala-afridi-0084502b4?utm_source=share&utm_campaign=share_via&utm_content=profile&utm_medium=android_app"
      ],
      "metadata": {
        "id": "8h3UFnk8q_Jq"
      }
    }
  ]
}